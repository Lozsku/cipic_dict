{
 "cells": [
  {
   "cell_type": "code",
   "execution_count": 1,
   "id": "c96f2c18",
   "metadata": {},
   "outputs": [],
   "source": [
    "folders=['subject_003', 'subject_008', 'subject_009', 'subject_010', 'subject_011', 'subject_012', 'subject_015', 'subject_017', 'subject_018', 'subject_019', 'subject_020', 'subject_021', 'subject_027', 'subject_028', 'subject_033', 'subject_040', 'subject_044', 'subject_048', 'subject_050', 'subject_051', 'subject_058', 'subject_059', 'subject_060', 'subject_061', 'subject_065', 'subject_119', 'subject_124', 'subject_126', 'subject_127', 'subject_131', 'subject_133', 'subject_134', 'subject_135', 'subject_137', 'subject_147', 'subject_148', 'subject_152', 'subject_153', 'subject_154', 'subject_155', 'subject_156', 'subject_158', 'subject_162', 'subject_163', 'subject_165']\n"
   ]
  },
  {
   "cell_type": "code",
   "execution_count": null,
   "id": "65f5cbd1",
   "metadata": {},
   "outputs": [],
   "source": []
  },
  {
   "cell_type": "code",
   "execution_count": null,
   "id": "eb5cd865",
   "metadata": {},
   "outputs": [],
   "source": [
    "import os\n",
    "import scipy.io\n",
    "\n",
    "folders = ['subject_003', 'subject_008', 'subject_009', 'subject_010', 'subject_011', 'subject_012', 'subject_015', 'subject_017', 'subject_018', 'subject_019']\n",
    "\n",
    "# Create an empty dictionary to store the data\n",
    "data_dict = {}\n",
    "\n",
    "for folder in folders:\n",
    "    file_path = os.path.join(folder, 'hrir.mat')\n",
    "    \n",
    "    # Check if the file exists in the folder\n",
    "    if os.path.exists(file_path):\n",
    "        # Load the data from the file\n",
    "        data = scipy.io.loadmat(file_path)\n",
    "        \n",
    "        # Get the folder name without the 'subject_' prefix\n",
    "        folder_name = folder.split('_')[1]\n",
    "        \n",
    "        # Add the data to the dictionary with the folder name as the key\n",
    "        data_dict[folder_name] = data\n",
    "        print(f\"Loaded data from {file_path}\")\n",
    "    else:\n",
    "        print(f\"{file_path} does not exist in {folder}\")\n",
    "\n",
    "# Save the combined data into a single file\n",
    "combined_file_path = 'combined_data.mat'\n",
    "scipy.io.savemat(combined_file_path, data_dict)\n",
    "print(f\"Saved combined data to {combined_file_path}\")\n"
   ]
  },
  {
   "cell_type": "code",
   "execution_count": 8,
   "id": "60690779",
   "metadata": {},
   "outputs": [],
   "source": [
    "import os\n",
    "import shutil\n",
    "\n",
    "# Define the source folder path and the destination folder path\n",
    "# source_folder = 'path/to/source/folders'\n",
    "destination_folder = os.getcwd()\n",
    "\n",
    "# Iterate over each folder in the source folder\n",
    "for folder in folders:\n",
    "    folder_path = os.path.join(folder, 'hrir_final.mat')\n",
    "    \n",
    "    # Check if the folder path exists and it is a directory\n",
    "    if os.path.isdir(folder_path):\n",
    "        # Look for the 'hrir.mat' file in the current folder\n",
    "        file_path = os.path.join(folder_path, 'hrir_final.mat')\n",
    "        \n",
    "        # Check if the file path exists and it is a file\n",
    "        if os.path.isfile(file_path):\n",
    "            # Generate the new file name by combining the folder name and the file extension\n",
    "            new_file_name = folder + '.mat'\n",
    "            \n",
    "            # Create the destination file path by joining the destination folder path and the new file name\n",
    "            destination_file_path = os.path.join(destination_folder, new_file_name)\n",
    "            \n",
    "            # Rename and move the file to the destination folder\n",
    "            shutil.move(file_path, destination_file_path)\n",
    "            print(f\"Moved '{file_path}' to '{destination_file_path}'\")\n"
   ]
  },
  {
   "cell_type": "code",
   "execution_count": 9,
   "id": "0844d1ae",
   "metadata": {},
   "outputs": [
    {
     "name": "stdout",
     "output_type": "stream",
     "text": [
      "File 'subject_003\\hrir_final.mat' copied and renamed to 'C:\\Users\\harsha\\Downloads\\cipic-hrtf-database-master\\cipic-hrtf-database-master\\remove\\subject_003.mat'\n",
      "File 'subject_008\\hrir_final.mat' copied and renamed to 'C:\\Users\\harsha\\Downloads\\cipic-hrtf-database-master\\cipic-hrtf-database-master\\remove\\subject_008.mat'\n",
      "File 'subject_009\\hrir_final.mat' copied and renamed to 'C:\\Users\\harsha\\Downloads\\cipic-hrtf-database-master\\cipic-hrtf-database-master\\remove\\subject_009.mat'\n",
      "File 'subject_010\\hrir_final.mat' copied and renamed to 'C:\\Users\\harsha\\Downloads\\cipic-hrtf-database-master\\cipic-hrtf-database-master\\remove\\subject_010.mat'\n",
      "File 'subject_011\\hrir_final.mat' copied and renamed to 'C:\\Users\\harsha\\Downloads\\cipic-hrtf-database-master\\cipic-hrtf-database-master\\remove\\subject_011.mat'\n",
      "File 'subject_012\\hrir_final.mat' copied and renamed to 'C:\\Users\\harsha\\Downloads\\cipic-hrtf-database-master\\cipic-hrtf-database-master\\remove\\subject_012.mat'\n",
      "File 'subject_015\\hrir_final.mat' copied and renamed to 'C:\\Users\\harsha\\Downloads\\cipic-hrtf-database-master\\cipic-hrtf-database-master\\remove\\subject_015.mat'\n",
      "File 'subject_017\\hrir_final.mat' copied and renamed to 'C:\\Users\\harsha\\Downloads\\cipic-hrtf-database-master\\cipic-hrtf-database-master\\remove\\subject_017.mat'\n",
      "File 'subject_018\\hrir_final.mat' copied and renamed to 'C:\\Users\\harsha\\Downloads\\cipic-hrtf-database-master\\cipic-hrtf-database-master\\remove\\subject_018.mat'\n",
      "File 'subject_019\\hrir_final.mat' copied and renamed to 'C:\\Users\\harsha\\Downloads\\cipic-hrtf-database-master\\cipic-hrtf-database-master\\remove\\subject_019.mat'\n",
      "File 'subject_020\\hrir_final.mat' copied and renamed to 'C:\\Users\\harsha\\Downloads\\cipic-hrtf-database-master\\cipic-hrtf-database-master\\remove\\subject_020.mat'\n",
      "File 'subject_021\\hrir_final.mat' copied and renamed to 'C:\\Users\\harsha\\Downloads\\cipic-hrtf-database-master\\cipic-hrtf-database-master\\remove\\subject_021.mat'\n",
      "File 'subject_027\\hrir_final.mat' copied and renamed to 'C:\\Users\\harsha\\Downloads\\cipic-hrtf-database-master\\cipic-hrtf-database-master\\remove\\subject_027.mat'\n",
      "File 'subject_028\\hrir_final.mat' copied and renamed to 'C:\\Users\\harsha\\Downloads\\cipic-hrtf-database-master\\cipic-hrtf-database-master\\remove\\subject_028.mat'\n",
      "File 'subject_033\\hrir_final.mat' copied and renamed to 'C:\\Users\\harsha\\Downloads\\cipic-hrtf-database-master\\cipic-hrtf-database-master\\remove\\subject_033.mat'\n",
      "File 'subject_040\\hrir_final.mat' copied and renamed to 'C:\\Users\\harsha\\Downloads\\cipic-hrtf-database-master\\cipic-hrtf-database-master\\remove\\subject_040.mat'\n",
      "File 'subject_044\\hrir_final.mat' copied and renamed to 'C:\\Users\\harsha\\Downloads\\cipic-hrtf-database-master\\cipic-hrtf-database-master\\remove\\subject_044.mat'\n",
      "File 'subject_048\\hrir_final.mat' copied and renamed to 'C:\\Users\\harsha\\Downloads\\cipic-hrtf-database-master\\cipic-hrtf-database-master\\remove\\subject_048.mat'\n",
      "File 'subject_050\\hrir_final.mat' copied and renamed to 'C:\\Users\\harsha\\Downloads\\cipic-hrtf-database-master\\cipic-hrtf-database-master\\remove\\subject_050.mat'\n",
      "File 'subject_051\\hrir_final.mat' copied and renamed to 'C:\\Users\\harsha\\Downloads\\cipic-hrtf-database-master\\cipic-hrtf-database-master\\remove\\subject_051.mat'\n",
      "File 'subject_058\\hrir_final.mat' copied and renamed to 'C:\\Users\\harsha\\Downloads\\cipic-hrtf-database-master\\cipic-hrtf-database-master\\remove\\subject_058.mat'\n",
      "File 'subject_059\\hrir_final.mat' copied and renamed to 'C:\\Users\\harsha\\Downloads\\cipic-hrtf-database-master\\cipic-hrtf-database-master\\remove\\subject_059.mat'\n",
      "File 'subject_060\\hrir_final.mat' copied and renamed to 'C:\\Users\\harsha\\Downloads\\cipic-hrtf-database-master\\cipic-hrtf-database-master\\remove\\subject_060.mat'\n",
      "File 'subject_061\\hrir_final.mat' copied and renamed to 'C:\\Users\\harsha\\Downloads\\cipic-hrtf-database-master\\cipic-hrtf-database-master\\remove\\subject_061.mat'\n",
      "File 'subject_065\\hrir_final.mat' copied and renamed to 'C:\\Users\\harsha\\Downloads\\cipic-hrtf-database-master\\cipic-hrtf-database-master\\remove\\subject_065.mat'\n",
      "File 'subject_119\\hrir_final.mat' copied and renamed to 'C:\\Users\\harsha\\Downloads\\cipic-hrtf-database-master\\cipic-hrtf-database-master\\remove\\subject_119.mat'\n",
      "File 'subject_124\\hrir_final.mat' copied and renamed to 'C:\\Users\\harsha\\Downloads\\cipic-hrtf-database-master\\cipic-hrtf-database-master\\remove\\subject_124.mat'\n",
      "File 'subject_126\\hrir_final.mat' copied and renamed to 'C:\\Users\\harsha\\Downloads\\cipic-hrtf-database-master\\cipic-hrtf-database-master\\remove\\subject_126.mat'\n",
      "File 'subject_127\\hrir_final.mat' copied and renamed to 'C:\\Users\\harsha\\Downloads\\cipic-hrtf-database-master\\cipic-hrtf-database-master\\remove\\subject_127.mat'\n",
      "File 'subject_131\\hrir_final.mat' copied and renamed to 'C:\\Users\\harsha\\Downloads\\cipic-hrtf-database-master\\cipic-hrtf-database-master\\remove\\subject_131.mat'\n",
      "File 'subject_133\\hrir_final.mat' copied and renamed to 'C:\\Users\\harsha\\Downloads\\cipic-hrtf-database-master\\cipic-hrtf-database-master\\remove\\subject_133.mat'\n",
      "File 'subject_134\\hrir_final.mat' copied and renamed to 'C:\\Users\\harsha\\Downloads\\cipic-hrtf-database-master\\cipic-hrtf-database-master\\remove\\subject_134.mat'\n",
      "File 'subject_135\\hrir_final.mat' copied and renamed to 'C:\\Users\\harsha\\Downloads\\cipic-hrtf-database-master\\cipic-hrtf-database-master\\remove\\subject_135.mat'\n",
      "File 'subject_137\\hrir_final.mat' copied and renamed to 'C:\\Users\\harsha\\Downloads\\cipic-hrtf-database-master\\cipic-hrtf-database-master\\remove\\subject_137.mat'\n",
      "File 'subject_147\\hrir_final.mat' copied and renamed to 'C:\\Users\\harsha\\Downloads\\cipic-hrtf-database-master\\cipic-hrtf-database-master\\remove\\subject_147.mat'\n",
      "File 'subject_148\\hrir_final.mat' copied and renamed to 'C:\\Users\\harsha\\Downloads\\cipic-hrtf-database-master\\cipic-hrtf-database-master\\remove\\subject_148.mat'\n",
      "File 'subject_152\\hrir_final.mat' copied and renamed to 'C:\\Users\\harsha\\Downloads\\cipic-hrtf-database-master\\cipic-hrtf-database-master\\remove\\subject_152.mat'\n",
      "File 'subject_153\\hrir_final.mat' copied and renamed to 'C:\\Users\\harsha\\Downloads\\cipic-hrtf-database-master\\cipic-hrtf-database-master\\remove\\subject_153.mat'\n",
      "File 'subject_154\\hrir_final.mat' copied and renamed to 'C:\\Users\\harsha\\Downloads\\cipic-hrtf-database-master\\cipic-hrtf-database-master\\remove\\subject_154.mat'\n",
      "File 'subject_155\\hrir_final.mat' copied and renamed to 'C:\\Users\\harsha\\Downloads\\cipic-hrtf-database-master\\cipic-hrtf-database-master\\remove\\subject_155.mat'\n",
      "File 'subject_156\\hrir_final.mat' copied and renamed to 'C:\\Users\\harsha\\Downloads\\cipic-hrtf-database-master\\cipic-hrtf-database-master\\remove\\subject_156.mat'\n",
      "File 'subject_158\\hrir_final.mat' copied and renamed to 'C:\\Users\\harsha\\Downloads\\cipic-hrtf-database-master\\cipic-hrtf-database-master\\remove\\subject_158.mat'\n",
      "File 'subject_162\\hrir_final.mat' copied and renamed to 'C:\\Users\\harsha\\Downloads\\cipic-hrtf-database-master\\cipic-hrtf-database-master\\remove\\subject_162.mat'\n",
      "File 'subject_163\\hrir_final.mat' copied and renamed to 'C:\\Users\\harsha\\Downloads\\cipic-hrtf-database-master\\cipic-hrtf-database-master\\remove\\subject_163.mat'\n",
      "File 'subject_165\\hrir_final.mat' copied and renamed to 'C:\\Users\\harsha\\Downloads\\cipic-hrtf-database-master\\cipic-hrtf-database-master\\remove\\subject_165.mat'\n"
     ]
    }
   ],
   "source": [
    "import os\n",
    "import shutil\n",
    "\n",
    "# folders = ['subject_003', 'subject_008', 'subject_009', 'subject_010', 'subject_011', 'subject_012', 'subject_015', 'subject_017', 'subject_018', 'subject_019']\n",
    "destination_folder = os.getcwd()  # Replace with the desired destination folder path\n",
    "\n",
    "for folder in folders:\n",
    "    source_file = os.path.join(folder, 'hrir_final.mat')\n",
    "    destination_file = os.path.join(destination_folder, folder + '.mat')\n",
    "    shutil.copy(source_file, destination_file)\n",
    "    print(f\"File '{source_file}' copied and renamed to '{destination_file}'\")\n"
   ]
  },
  {
   "cell_type": "code",
   "execution_count": null,
   "id": "ee1388c8",
   "metadata": {},
   "outputs": [],
   "source": []
  },
  {
   "cell_type": "code",
   "execution_count": null,
   "id": "48bfe932",
   "metadata": {},
   "outputs": [],
   "source": [
    "import json\n"
   ]
  },
  {
   "cell_type": "code",
   "execution_count": null,
   "id": "3668827e",
   "metadata": {},
   "outputs": [],
   "source": [
    "import scipy.io\n",
    "import pandas as pd"
   ]
  },
  {
   "cell_type": "code",
   "execution_count": null,
   "id": "66634a29",
   "metadata": {},
   "outputs": [],
   "source": [
    "raw=['subject_003', 'subject_008', 'subject_009', 'subject_010', 'subject_011', 'subject_012', 'subject_015', 'subject_017', 'subject_018', 'subject_019', 'subject_020', 'subject_021', 'subject_027', 'subject_028', 'subject_033', 'subject_040', 'subject_044', 'subject_048', 'subject_050', 'subject_051', 'subject_058', 'subject_059', 'subject_060', 'subject_061', 'subject_065', 'subject_119', 'subject_124', 'subject_126', 'subject_127', 'subject_131', 'subject_133', 'subject_134', 'subject_135', 'subject_137', 'subject_147', 'subject_148', 'subject_152', 'subject_153', 'subject_154', 'subject_155', 'subject_156', 'subject_158', 'subject_162', 'subject_163', 'subject_165']\n"
   ]
  },
  {
   "cell_type": "code",
   "execution_count": null,
   "id": "72a8b14f",
   "metadata": {},
   "outputs": [],
   "source": [
    "import numpy as np\n",
    "\n",
    "def convert_dict_to_lists(data):\n",
    "    if isinstance(data, dict):\n",
    "        return {k: convert_dict_to_lists(v) for k, v in data.items()}\n",
    "    elif isinstance(data, np.ndarray):\n",
    "        return data.tolist()\n",
    "    else:\n",
    "        return data"
   ]
  },
  {
   "cell_type": "code",
   "execution_count": null,
   "id": "526ea622",
   "metadata": {},
   "outputs": [],
   "source": [
    "data_raw = {}\n",
    "for i in raw:\n",
    "    name = 'renamed_data/'+i+'.mat'\n",
    "    dic = scipy.io.loadmat(name)\n",
    "    del dic['__header__']\n",
    "    del dic['__version__']\n",
    "    del dic['__globals__']\n",
    "    del dic['OnR']\n",
    "    del dic['OnL']\n",
    "    del dic['ITD']\n",
    "    del dic['name']\n",
    "    \n",
    "    data_raw[i]=convert_dict_to_lists(dic)"
   ]
  },
  {
   "cell_type": "code",
   "execution_count": null,
   "id": "cf21e5c4",
   "metadata": {},
   "outputs": [],
   "source": [
    "len(data_raw)"
   ]
  },
  {
   "cell_type": "code",
   "execution_count": null,
   "id": "883af32e",
   "metadata": {},
   "outputs": [],
   "source": [
    "data_raw['subject_003'].keys()"
   ]
  },
  {
   "cell_type": "code",
   "execution_count": null,
   "id": "ef91c5cc",
   "metadata": {},
   "outputs": [],
   "source": [
    "with open(\"dictonary_new.json\", \"w\") as outfile:\n",
    "    json.dump(data_raw, outfile)"
   ]
  },
  {
   "cell_type": "code",
   "execution_count": null,
   "id": "c244bbdd",
   "metadata": {},
   "outputs": [],
   "source": [
    "f = open('dictonary_new.json')"
   ]
  },
  {
   "cell_type": "code",
   "execution_count": null,
   "id": "611110a8",
   "metadata": {},
   "outputs": [],
   "source": [
    "jk=json.load(f)"
   ]
  },
  {
   "cell_type": "code",
   "execution_count": null,
   "id": "eabb65aa",
   "metadata": {},
   "outputs": [],
   "source": []
  },
  {
   "cell_type": "code",
   "execution_count": null,
   "id": "e349b733",
   "metadata": {},
   "outputs": [],
   "source": []
  },
  {
   "cell_type": "code",
   "execution_count": null,
   "id": "5644ff04",
   "metadata": {},
   "outputs": [],
   "source": []
  },
  {
   "cell_type": "code",
   "execution_count": null,
   "id": "34e13f05",
   "metadata": {},
   "outputs": [],
   "source": []
  },
  {
   "cell_type": "code",
   "execution_count": null,
   "id": "b1c7d80d",
   "metadata": {},
   "outputs": [],
   "source": []
  },
  {
   "cell_type": "code",
   "execution_count": null,
   "id": "67d71436",
   "metadata": {},
   "outputs": [],
   "source": []
  },
  {
   "cell_type": "code",
   "execution_count": null,
   "id": "b740454c",
   "metadata": {},
   "outputs": [],
   "source": []
  }
 ],
 "metadata": {
  "kernelspec": {
   "display_name": "Python 3 (ipykernel)",
   "language": "python",
   "name": "python3"
  },
  "language_info": {
   "codemirror_mode": {
    "name": "ipython",
    "version": 3
   },
   "file_extension": ".py",
   "mimetype": "text/x-python",
   "name": "python",
   "nbconvert_exporter": "python",
   "pygments_lexer": "ipython3",
   "version": "3.10.9"
  }
 },
 "nbformat": 4,
 "nbformat_minor": 5
}
